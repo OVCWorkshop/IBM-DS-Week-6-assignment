{
 "cells": [
  {
   "cell_type": "markdown",
   "id": "93092426-0772-4474-9d87-d4b15a16c690",
   "metadata": {},
   "source": [
    "# Data Science Tools and Ecosystem"
   ]
  },
  {
   "cell_type": "markdown",
   "id": "8aa21dc8-5605-47db-979a-f0895ca6fdc7",
   "metadata": {},
   "source": [
    "In this notebook, Data Science Tools and Ecosystem are summarized "
   ]
  },
  {
   "cell_type": "markdown",
   "id": "a349a56b-d985-4a6d-a0fa-10a5c0b1fa69",
   "metadata": {},
   "source": [
    "Some of the most popular languages that Data Scientists use are:\n"
   ]
  },
  {
   "cell_type": "markdown",
   "id": "20b23726-fcbf-423a-9317-965186d66d4a",
   "metadata": {},
   "source": [
    "1. Julia\n",
    "1. Python\n",
    "1. R"
   ]
  },
  {
   "cell_type": "markdown",
   "id": "d60e7e14-1948-4a72-b09f-011b61b4dda3",
   "metadata": {},
   "source": [
    "Some of the commonly used libraries used by Data Scientists include:"
   ]
  },
  {
   "cell_type": "markdown",
   "id": "ba75dea3-c6e5-4e86-b6d0-028deb1983b1",
   "metadata": {},
   "source": [
    "1. NumPy\n",
    "1. Pandas\n",
    "1. Matplotlib\n",
    "1. Seaborn\n",
    "1. Plotly"
   ]
  },
  {
   "cell_type": "markdown",
   "id": "2b17d172-46f9-4a09-9c9b-3c2641b62323",
   "metadata": {},
   "source": [
    "|Data Science Tools|\n",
    "| --- |\n",
    "|RStudio|\n",
    "|Jupyter Notebooks|\n",
    "|VSCode|"
   ]
  },
  {
   "cell_type": "markdown",
   "id": "2ded944e-ae29-4b1e-af00-f8ebd2e5be60",
   "metadata": {},
   "source": [
    "### Below are a few examples of evaluating arithmetic expressions in Python"
   ]
  },
  {
   "cell_type": "code",
   "execution_count": 1,
   "id": "73db936e-6629-4ece-8b46-0993c058774d",
   "metadata": {},
   "outputs": [
    {
     "data": {
      "text/plain": [
       "17"
      ]
     },
     "execution_count": 1,
     "metadata": {},
     "output_type": "execute_result"
    }
   ],
   "source": [
    "#This is a simple arithmetic expression to multiply then add integers\n",
    "(3*4)+5\n"
   ]
  },
  {
   "cell_type": "code",
   "execution_count": 3,
   "id": "546eced2-2035-4f30-aae3-f0f61b5fab55",
   "metadata": {},
   "outputs": [
    {
     "data": {
      "text/plain": [
       "3.3333333333333335"
      ]
     },
     "execution_count": 3,
     "metadata": {},
     "output_type": "execute_result"
    }
   ],
   "source": [
    "#The purpose of this formula is to convert 200 minutes into hours\n",
    "200/60"
   ]
  },
  {
   "cell_type": "markdown",
   "id": "4fc1fd12-f44a-4b04-830c-861329509ea3",
   "metadata": {},
   "source": [
    "**Objectives:**\n",
    "  "
   ]
  },
  {
   "cell_type": "markdown",
   "id": "7fc20367-2a0e-4947-87e2-722ff59b1c3c",
   "metadata": {},
   "source": [
    "- Identify commonly used Data Science Libraries\n",
    "- Identify commonly used Data Science Tools\n",
    "- Practice arithmetic expressions in Jupyter code cells"
   ]
  },
  {
   "cell_type": "markdown",
   "id": "4ed434b7-c8fc-4f1f-bbee-1d00cbb3a3ba",
   "metadata": {},
   "source": [
    "## Author\n",
    "Mike Fabrizio"
   ]
  },
  {
   "cell_type": "code",
   "execution_count": null,
   "id": "3480345b-6588-4227-92a4-409984554b29",
   "metadata": {},
   "outputs": [],
   "source": []
  }
 ],
 "metadata": {
  "kernelspec": {
   "display_name": "anaconda-panel-2023.05-py310",
   "language": "python",
   "name": "conda-env-anaconda-panel-2023.05-py310-py"
  },
  "language_info": {
   "codemirror_mode": {
    "name": "ipython",
    "version": 3
   },
   "file_extension": ".py",
   "mimetype": "text/x-python",
   "name": "python",
   "nbconvert_exporter": "python",
   "pygments_lexer": "ipython3",
   "version": "3.11.3"
  }
 },
 "nbformat": 4,
 "nbformat_minor": 5
}
